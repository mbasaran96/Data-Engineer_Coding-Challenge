{
 "cells": [
  {
   "cell_type": "code",
   "execution_count": 1,
   "id": "95b7cb5c-d3e1-4ec1-9bed-c73e38936bd4",
   "metadata": {},
   "outputs": [],
   "source": [
    "# Bibliotheken importieren\n",
    "import pandas as pd"
   ]
  },
  {
   "cell_type": "code",
   "execution_count": 2,
   "id": "7ab1432a-6108-4977-8a0f-5610525319ba",
   "metadata": {},
   "outputs": [
    {
     "name": "stderr",
     "output_type": "stream",
     "text": [
      "/var/folders/h2/_zc6rgws7kb3mkn0_qxtcn240000gn/T/ipykernel_3141/1648501153.py:2: DtypeWarning: Columns (5,9,10,12,13,17,23,25,31,34,36) have mixed types. Specify dtype option on import or set low_memory=False.\n",
      "  df = pd.read_csv('/Users/mertali/Desktop/Coding Challenge/munich_sales.csv', sep=';', header=None,\n"
     ]
    }
   ],
   "source": [
    "# Datensatz einlesen\n",
    "df = pd.read_csv('munich_sales.csv', sep=';', header=None, \n",
    "                 names=['transaction_id', 'invoice_number', 'transaction_date', 'transaction_time',\n",
    "                        'transaction_status', 'store_id', 'store_name', 'store_location', 'store_type', \n",
    "                        'store_size_sqm', 'district_id', 'district_name', 'postal_code', 'customer_id',\t\n",
    "                        'customer_name', 'customer_email', 'customer_loyalty_status', 'product_id',\t'product_name',\n",
    "                        'product_category', 'product_subcategory', 'product_brand', 'product_department',\n",
    "                        'supplier_id', 'supplier_name', 'quantity', 'unit_price', 'base_price', 'discount_rate',\n",
    "                        'discount_applied', 'total_amount', 'tax_rate', 'tax_amount', 'payment_method',\n",
    "                        'sales_staff_id', 'sales_staff_name', 'promotion_id', 'promotion_name'])"
   ]
  },
  {
   "cell_type": "code",
   "execution_count": 3,
   "id": "573d4bc6-9e51-43ab-b16d-893cb4dfcb94",
   "metadata": {},
   "outputs": [
    {
     "name": "stdout",
     "output_type": "stream",
     "text": [
      "Rows: 35613\n",
      "Columns: 38\n"
     ]
    }
   ],
   "source": [
    "print('Rows:', df.shape[0])\n",
    "print('Columns:', df.shape[1])"
   ]
  },
  {
   "cell_type": "code",
   "execution_count": 4,
   "id": "9ccb2a5f-d81d-462c-87e4-b365846545b2",
   "metadata": {},
   "outputs": [
    {
     "name": "stdout",
     "output_type": "stream",
     "text": [
      "<class 'pandas.core.frame.DataFrame'>\n",
      "RangeIndex: 35613 entries, 0 to 35612\n",
      "Data columns (total 38 columns):\n",
      " #   Column                   Non-Null Count  Dtype \n",
      "---  ------                   --------------  ----- \n",
      " 0   transaction_id           35613 non-null  object\n",
      " 1   invoice_number           35613 non-null  object\n",
      " 2   transaction_date         35613 non-null  object\n",
      " 3   transaction_time         35613 non-null  object\n",
      " 4   transaction_status       35613 non-null  object\n",
      " 5   store_id                 35613 non-null  object\n",
      " 6   store_name               35613 non-null  object\n",
      " 7   store_location           35613 non-null  object\n",
      " 8   store_type               35613 non-null  object\n",
      " 9   store_size_sqm           35613 non-null  object\n",
      " 10  district_id              35613 non-null  object\n",
      " 11  district_name            35613 non-null  object\n",
      " 12  postal_code              35613 non-null  object\n",
      " 13  customer_id              27233 non-null  object\n",
      " 14  customer_name            28606 non-null  object\n",
      " 15  customer_email           27172 non-null  object\n",
      " 16  customer_loyalty_status  26012 non-null  object\n",
      " 17  product_id               35613 non-null  object\n",
      " 18  product_name             35613 non-null  object\n",
      " 19  product_category         35613 non-null  object\n",
      " 20  product_subcategory      35613 non-null  object\n",
      " 21  product_brand            35613 non-null  object\n",
      " 22  product_department       32220 non-null  object\n",
      " 23  supplier_id              35613 non-null  object\n",
      " 24  supplier_name            35613 non-null  object\n",
      " 25  quantity                 35492 non-null  object\n",
      " 26  unit_price               35492 non-null  object\n",
      " 27  base_price               35613 non-null  object\n",
      " 28  discount_rate            35613 non-null  object\n",
      " 29  discount_applied         33857 non-null  object\n",
      " 30  total_amount             35511 non-null  object\n",
      " 31  tax_rate                 35613 non-null  object\n",
      " 32  tax_amount               35613 non-null  object\n",
      " 33  payment_method           35613 non-null  object\n",
      " 34  sales_staff_id           35613 non-null  object\n",
      " 35  sales_staff_name         35613 non-null  object\n",
      " 36  promotion_id             8872 non-null   object\n",
      " 37  promotion_name           8872 non-null   object\n",
      "dtypes: object(38)\n",
      "memory usage: 10.3+ MB\n"
     ]
    }
   ],
   "source": [
    "df.info()"
   ]
  },
  {
   "cell_type": "markdown",
   "id": "c4134e0d-d180-45e4-9910-22c573218e38",
   "metadata": {},
   "source": [
    "#### Columns with missing values"
   ]
  },
  {
   "cell_type": "code",
   "execution_count": 7,
   "id": "833e0f8c-4f2e-46d9-90be-c36d4c43d773",
   "metadata": {},
   "outputs": [
    {
     "data": {
      "text/plain": [
       "transaction_id                 0\n",
       "invoice_number                 0\n",
       "transaction_date               0\n",
       "transaction_time               0\n",
       "transaction_status             0\n",
       "store_id                       0\n",
       "store_name                     0\n",
       "store_location                 0\n",
       "store_type                     0\n",
       "store_size_sqm                 0\n",
       "district_id                    0\n",
       "district_name                  0\n",
       "postal_code                    0\n",
       "customer_id                 8380\n",
       "customer_name               7007\n",
       "customer_email              8441\n",
       "customer_loyalty_status     9601\n",
       "product_id                     0\n",
       "product_name                   0\n",
       "product_category               0\n",
       "product_subcategory            0\n",
       "product_brand                  0\n",
       "product_department          3393\n",
       "supplier_id                    0\n",
       "supplier_name                  0\n",
       "quantity                     121\n",
       "unit_price                   121\n",
       "base_price                     0\n",
       "discount_rate                  0\n",
       "discount_applied            1756\n",
       "total_amount                 102\n",
       "tax_rate                       0\n",
       "tax_amount                     0\n",
       "payment_method                 0\n",
       "sales_staff_id                 0\n",
       "sales_staff_name               0\n",
       "promotion_id               26741\n",
       "promotion_name             26741\n",
       "dtype: int64"
      ]
     },
     "execution_count": 7,
     "metadata": {},
     "output_type": "execute_result"
    }
   ],
   "source": [
    "df.isnull().sum()"
   ]
  },
  {
   "cell_type": "code",
   "execution_count": 85,
   "id": "afe34581-f134-4486-91e9-c58631e12233",
   "metadata": {},
   "outputs": [
    {
     "name": "stderr",
     "output_type": "stream",
     "text": [
      "/var/folders/h2/_zc6rgws7kb3mkn0_qxtcn240000gn/T/ipykernel_3141/161102389.py:1: DtypeWarning: Columns (5,9,10,12,13,17,23,25,26,27,28,29,31,34,36) have mixed types. Specify dtype option on import or set low_memory=False.\n",
      "  df_cleaned = pd.read_csv('/Users/mertali/Desktop/Coding Challenge/munich_sales_cleaned.csv', sep=';', header=None,\n"
     ]
    }
   ],
   "source": [
    "df_cleaned = pd.read_csv('munich_sales_cleaned.csv', sep=';', header=None, \n",
    "                 names=['transaction_id', 'invoice_number', 'transaction_date', 'transaction_time',\n",
    "                        'transaction_status', 'store_id', 'store_name', 'store_location', 'store_type', \n",
    "                        'store_size_sqm', 'district_id', 'district_name', 'postal_code', 'customer_id',\t\n",
    "                        'customer_name', 'customer_email', 'customer_loyalty_status', 'product_id',\t'product_name',\n",
    "                        'product_category', 'product_subcategory', 'product_brand', 'product_department',\n",
    "                        'supplier_id', 'supplier_name', 'quantity', 'unit_price', 'base_price', 'discount_rate',\n",
    "                        'discount_applied', 'total_amount', 'tax_rate', 'tax_amount', 'payment_method',\n",
    "                        'sales_staff_id', 'sales_staff_name', 'promotion_id', 'promotion_name'])"
   ]
  },
  {
   "cell_type": "code",
   "execution_count": 87,
   "id": "cd3b01fd-d7f4-4172-b430-697060e124a7",
   "metadata": {},
   "outputs": [
    {
     "data": {
      "text/plain": [
       "transaction_id                 0\n",
       "invoice_number                 0\n",
       "transaction_date               0\n",
       "transaction_time               0\n",
       "transaction_status             0\n",
       "store_id                       0\n",
       "store_name                     0\n",
       "store_location                 0\n",
       "store_type                     0\n",
       "store_size_sqm                 0\n",
       "district_id                    0\n",
       "district_name                  0\n",
       "postal_code                    0\n",
       "customer_id                 7007\n",
       "customer_name               7007\n",
       "customer_email              7007\n",
       "customer_loyalty_status     9601\n",
       "product_id                     0\n",
       "product_name                   0\n",
       "product_category               0\n",
       "product_subcategory            0\n",
       "product_brand                  0\n",
       "product_department          3393\n",
       "supplier_id                    0\n",
       "supplier_name                  0\n",
       "quantity                     121\n",
       "unit_price                  1087\n",
       "base_price                   716\n",
       "discount_rate                  3\n",
       "discount_applied               0\n",
       "total_amount                 102\n",
       "tax_rate                       0\n",
       "tax_amount                     0\n",
       "payment_method                 0\n",
       "sales_staff_id                 0\n",
       "sales_staff_name               0\n",
       "promotion_id               26741\n",
       "promotion_name             26741\n",
       "dtype: int64"
      ]
     },
     "execution_count": 87,
     "metadata": {},
     "output_type": "execute_result"
    }
   ],
   "source": [
    "df_cleaned.isnull().sum()"
   ]
  },
  {
   "cell_type": "code",
   "execution_count": null,
   "id": "4eb8fa39-c2f8-4696-bbec-c7a3151b8f93",
   "metadata": {},
   "outputs": [],
   "source": []
  }
 ],
 "metadata": {
  "kernelspec": {
   "display_name": "Python 3 (ipykernel)",
   "language": "python",
   "name": "python3"
  },
  "language_info": {
   "codemirror_mode": {
    "name": "ipython",
    "version": 3
   },
   "file_extension": ".py",
   "mimetype": "text/x-python",
   "name": "python",
   "nbconvert_exporter": "python",
   "pygments_lexer": "ipython3",
   "version": "3.11.7"
  }
 },
 "nbformat": 4,
 "nbformat_minor": 5
}
